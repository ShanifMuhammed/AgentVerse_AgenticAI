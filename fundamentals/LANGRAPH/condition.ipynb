{
 "cells": [
  {
   "cell_type": "code",
   "id": "initial_id",
   "metadata": {
    "collapsed": true,
    "ExecuteTime": {
     "end_time": "2025-08-09T04:17:37.914091Z",
     "start_time": "2025-08-09T04:17:37.856197Z"
    }
   },
   "source": [
    "from mypyc.ir.ops import IncRef\n",
    "from pydantic import BaseModel\n",
    "from typing import TypedDict,Literal\n"
   ],
   "outputs": [],
   "execution_count": 37
  },
  {
   "metadata": {
    "ExecuteTime": {
     "end_time": "2025-08-09T04:21:51.218739Z",
     "start_time": "2025-08-09T04:21:51.209441Z"
    }
   },
   "cell_type": "code",
   "source": [
    "class PortFolioState(BaseModel):\n",
    "    usd_amt: float\n",
    "    total_amt: float=0\n",
    "    target_currency: Literal['INR','EUR']\n",
    "    total_amt: float=0\n",
    "    amt_inr: float=0\n",
    "    amt_eur: float=0\n",
    "\n",
    "\n",
    "\n"
   ],
   "id": "716ff9ce31f59090",
   "outputs": [],
   "execution_count": 64
  },
  {
   "metadata": {
    "ExecuteTime": {
     "end_time": "2025-08-09T04:18:40.161702Z",
     "start_time": "2025-08-09T04:18:40.156264Z"
    }
   },
   "cell_type": "code",
   "source": [
    "def total_amt(state: PortFolioState)->PortFolioState:\n",
    "    state.total_amt=state.usd_amt*0.85\n",
    "    return state"
   ],
   "id": "eceed5f391b5122d",
   "outputs": [],
   "execution_count": 47
  },
  {
   "metadata": {
    "ExecuteTime": {
     "end_time": "2025-08-09T04:22:03.789177Z",
     "start_time": "2025-08-09T04:22:03.783021Z"
    }
   },
   "cell_type": "code",
   "source": [
    "def amt_inr(state: PortFolioState)->PortFolioState:\n",
    "    state.amt_inr=state.usd_amt*85\n",
    "    return state\n"
   ],
   "id": "99c50f5e2cbf7103",
   "outputs": [],
   "execution_count": 65
  },
  {
   "metadata": {
    "ExecuteTime": {
     "end_time": "2025-08-09T04:22:13.322794Z",
     "start_time": "2025-08-09T04:22:13.316376Z"
    }
   },
   "cell_type": "code",
   "source": [
    "def amt_eur(state: PortFolioState)->PortFolioState:\n",
    "    state.amt_eur=state.usd_amt*0.085\n",
    "    return state"
   ],
   "id": "acfc58f4c817d3a2",
   "outputs": [],
   "execution_count": 66
  },
  {
   "metadata": {
    "ExecuteTime": {
     "end_time": "2025-08-09T04:22:14.465736Z",
     "start_time": "2025-08-09T04:22:14.459372Z"
    }
   },
   "cell_type": "code",
   "source": [
    "def currency_conversion(state:PortFolioState)->str:\n",
    "    return state.target_currency\n"
   ],
   "id": "b3c9021688092119",
   "outputs": [],
   "execution_count": 67
  },
  {
   "metadata": {
    "ExecuteTime": {
     "end_time": "2025-08-09T04:22:15.514742Z",
     "start_time": "2025-08-09T04:22:15.508147Z"
    }
   },
   "cell_type": "code",
   "source": [
    "from langgraph.graph import StateGraph,START,END\n",
    "\n",
    "builder = StateGraph(PortFolioState)\n",
    "builder.add_node('total_amt',total_amt)\n",
    "builder.add_node('amt_inr',amt_inr)\n",
    "builder.add_node('amt_eur',amt_eur)\n",
    "builder.add_edge(START,\"total_amt\")\n",
    "builder.add_conditional_edges(\"total_amt\",\n",
    "    currency_conversion,{\n",
    "        \"INR\": \"amt_inr\",\n",
    "        \"EUR\": \"amt_eur\"\n",
    "    }\n",
    ")\n",
    "builder.add_edge([\"amt_inr\",\"amt_eur\"],END)\n",
    "graph = builder.compile()\n"
   ],
   "id": "f510ce6b9caf2ab7",
   "outputs": [],
   "execution_count": 68
  },
  {
   "metadata": {
    "ExecuteTime": {
     "end_time": "2025-08-09T04:22:16.831651Z",
     "start_time": "2025-08-09T04:22:16.825131Z"
    }
   },
   "cell_type": "code",
   "source": "graph.invoke({\"usd_amt\":10000,\"target_currency\":\"INR\"})",
   "id": "7cae28fa3a0f8cca",
   "outputs": [
    {
     "data": {
      "text/plain": [
       "{'usd_amt': 10000.0,\n",
       " 'total_amt': 8500.0,\n",
       " 'target_currency': 'INR',\n",
       " 'amt_inr': 850000.0,\n",
       " 'amt_eur': 0}"
      ]
     },
     "execution_count": 69,
     "metadata": {},
     "output_type": "execute_result"
    }
   ],
   "execution_count": 69
  },
  {
   "metadata": {
    "ExecuteTime": {
     "end_time": "2025-08-09T04:17:39.232709Z",
     "start_time": "2025-08-09T04:17:39.230457Z"
    }
   },
   "cell_type": "code",
   "source": "",
   "id": "e262e640d670daa6",
   "outputs": [],
   "execution_count": null
  },
  {
   "metadata": {},
   "cell_type": "code",
   "outputs": [],
   "execution_count": null,
   "source": "",
   "id": "801ec3839a6d8d68"
  }
 ],
 "metadata": {
  "kernelspec": {
   "display_name": "Python [conda env:base] *",
   "language": "python",
   "name": "conda-base-py"
  },
  "language_info": {
   "codemirror_mode": {
    "name": "ipython",
    "version": 2
   },
   "file_extension": ".py",
   "mimetype": "text/x-python",
   "name": "python",
   "nbconvert_exporter": "python",
   "pygments_lexer": "ipython2",
   "version": "2.7.6"
  }
 },
 "nbformat": 4,
 "nbformat_minor": 5
}
