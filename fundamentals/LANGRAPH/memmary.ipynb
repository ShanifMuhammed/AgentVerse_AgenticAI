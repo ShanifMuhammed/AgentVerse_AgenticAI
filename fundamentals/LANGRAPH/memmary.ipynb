{
 "cells": [
  {
   "cell_type": "code",
   "id": "initial_id",
   "metadata": {
    "collapsed": true,
    "ExecuteTime": {
     "end_time": "2025-08-10T17:16:36.039252Z",
     "start_time": "2025-08-10T17:16:36.030409Z"
    }
   },
   "source": [
    "from typing import Annotated\n",
    "\n",
    "from langchain.chat_models import init_chat_model\n",
    "from langgraph.prebuilt import ToolNode\n",
    "from typing_extensions import TypedDict\n",
    "from langgraph.graph import add_messages\n",
    "from langchain_core.tools import tool\n",
    "from dotenv import load_dotenv\n",
    "load_dotenv()\n",
    "from langgraph.graph import StateGraph,END,START\n",
    "from langgraph.prebuilt import ToolNode,tools_condition\n",
    "from langgraph.checkpoint.memory import InMemorySaver\n",
    "\n",
    "checkpointer = InMemorySaver()\n",
    "\n"
   ],
   "outputs": [],
   "execution_count": 41
  },
  {
   "metadata": {
    "ExecuteTime": {
     "end_time": "2025-08-10T17:13:25.069254Z",
     "start_time": "2025-08-10T17:13:25.063546Z"
    }
   },
   "cell_type": "code",
   "source": [
    "\n",
    "\n",
    "class State(TypedDict):\n",
    "    messages: Annotated[list,add_messages]\n"
   ],
   "id": "fb328b68edbaa7a1",
   "outputs": [],
   "execution_count": 32
  },
  {
   "metadata": {
    "ExecuteTime": {
     "end_time": "2025-08-10T17:19:04.252815Z",
     "start_time": "2025-08-10T17:19:04.238783Z"
    }
   },
   "cell_type": "code",
   "source": [
    "@tool\n",
    "def stock_price_tool(symbol: str) -> float:\n",
    "    \"\"\"\n",
    "    this function takes stock symbol as input and returns stock price\n",
    "\n",
    "    :param symbol: stock symbol\n",
    "    :return: stock price\n",
    "\n",
    "     \"\"\"\n",
    "    return {\n",
    "        \"AAP\" : 45.0,\n",
    "        \"RIL\" : 39.9,\n",
    "        \"MSFT\" : 44.0,\n",
    "        \"AMZN\" : 39.9\n",
    "    }.get(symbol.upper(), 0)\n",
    "tools = [stock_price_tool]\n",
    "llm = init_chat_model(\"google_genai:gemini-2.0-flash\")\n",
    "llm_with_tools = llm.bind_tools(tools)\n",
    "\n"
   ],
   "id": "99590843a34e37c",
   "outputs": [],
   "execution_count": 56
  },
  {
   "metadata": {
    "ExecuteTime": {
     "end_time": "2025-08-10T17:19:04.424217Z",
     "start_time": "2025-08-10T17:19:04.420078Z"
    }
   },
   "cell_type": "code",
   "source": [
    "def chatbot(state:State)->State:\n",
    "    return {\"messages\":[llm_with_tools.invoke(state[\"messages\"])]}"
   ],
   "id": "e9b8a57b1cb86f30",
   "outputs": [],
   "execution_count": 57
  },
  {
   "metadata": {
    "ExecuteTime": {
     "end_time": "2025-08-10T17:19:04.797689Z",
     "start_time": "2025-08-10T17:19:04.599081Z"
    }
   },
   "cell_type": "code",
   "source": [
    "builder = StateGraph(State)\n",
    "builder.add_node(\"chatbot\",chatbot)\n",
    "builder.add_node(\"tools\",ToolNode(tools))\n",
    "builder.add_edge(START,\"chatbot\")\n",
    "builder.add_conditional_edges(\"chatbot\",tools_condition)\n",
    "builder.add_edge(\"tools\",\"chatbot\")\n",
    "builder.add_edge(\"chatbot\",END)\n",
    "#\n",
    "\n",
    "\n",
    "graph = builder.compile(checkpointer=memory)\n",
    "\n"
   ],
   "id": "dfe0864d2701974e",
   "outputs": [],
   "execution_count": 58
  },
  {
   "metadata": {
    "ExecuteTime": {
     "end_time": "2025-08-10T17:19:04.844650Z",
     "start_time": "2025-08-10T17:19:04.840687Z"
    }
   },
   "cell_type": "code",
   "source": "from IPython.display import display,Image",
   "id": "7297c3bc8ca0fe56",
   "outputs": [],
   "execution_count": 59
  },
  {
   "metadata": {
    "ExecuteTime": {
     "end_time": "2025-08-10T17:19:05.072177Z",
     "start_time": "2025-08-10T17:19:04.895741Z"
    }
   },
   "cell_type": "code",
   "source": "display(Image(graph.get_graph().draw_mermaid_png()))",
   "id": "556d16f15f046f20",
   "outputs": [
    {
     "data": {
      "image/png": "[encoded data removed]",
      "text/plain": [
       "<IPython.core.display.Image object>"
      ]
     },
     "metadata": {},
     "output_type": "display_data"
    }
   ],
   "execution_count": 60
  },
  {
   "metadata": {
    "ExecuteTime": {
     "end_time": "2025-08-10T17:19:05.767157Z",
     "start_time": "2025-08-10T17:19:05.764029Z"
    }
   },
   "cell_type": "code",
   "source": "# config1 = {\"configurable\":{\"thread id\":\"1\"}}",
   "id": "5d27b0ca18ebe5e5",
   "outputs": [],
   "execution_count": 61
  },
  {
   "metadata": {
    "ExecuteTime": {
     "end_time": "2025-08-10T17:19:08.499890Z",
     "start_time": "2025-08-10T17:19:06.317271Z"
    }
   },
   "cell_type": "code",
   "source": [
    "config1 = { 'configurable': { 'thread_id': '1'} }\n",
    "\n",
    "msg = \"I want to buy 20 AMZN stocks using current price. Then 15 MSFT. What will be the total cost?\"\n",
    "\n",
    "state = graph.invoke({\"messages\": [{\"role\": \"user\", \"content\": msg}]}, config=config1)\n",
    "print(state[\"messages\"][-1].content)"
   ],
   "id": "5a7b474b5f03ec5",
   "outputs": [
    {
     "name": "stdout",
     "output_type": "stream",
     "text": [
      "OK. The current price of AMZN is $39.9 and MSFT is $44.\n",
      "The total cost will be 20 * 39.9 + 15 * 44 = $1458\n"
     ]
    }
   ],
   "execution_count": 62
  },
  {
   "metadata": {
    "ExecuteTime": {
     "end_time": "2025-08-10T17:19:10.935014Z",
     "start_time": "2025-08-10T17:19:08.600567Z"
    }
   },
   "cell_type": "code",
   "source": [
    "msg = \"Using the current price tell me the total price of 10 RIL stocks and add it to previous total cost\"\n",
    "\n",
    "state = graph.invoke({\"messages\": [{\"role\": \"user\", \"content\": msg}]}, config=config1)\n",
    "print(state[\"messages\"][-1].content)"
   ],
   "id": "fc02bf5a749b9f69",
   "outputs": [
    {
     "name": "stdout",
     "output_type": "stream",
     "text": [
      "The current price of RIL is $39.9.\n",
      "The total cost of 10 RIL stocks is 10 * 39.9 = $399.\n",
      "Adding it to the previous total cost, the new total cost is $1458 + $399 = $1857.\n"
     ]
    }
   ],
   "execution_count": 63
  },
  {
   "metadata": {
    "ExecuteTime": {
     "end_time": "2025-08-10T17:19:19.648298Z",
     "start_time": "2025-08-10T17:19:19.644339Z"
    }
   },
   "cell_type": "code",
   "source": "print(state[\"messages\"])",
   "id": "85dec5bb7d7e688d",
   "outputs": [
    {
     "name": "stdout",
     "output_type": "stream",
     "text": [
      "[HumanMessage(content='I want to buy 20 AMZN stocks using current price. Then 15 MSFT. What will be the total cost?', additional_kwargs={}, response_metadata={}, id='9d89298d-2465-4e13-8f4d-f80a64ded77a'), AIMessage(content='', additional_kwargs={'function_call': {'name': 'stock_price_tool', 'arguments': '{\"symbol\": \"MSFT\"}'}}, response_metadata={'prompt_feedback': {'block_reason': 0, 'safety_ratings': []}, 'finish_reason': 'STOP', 'model_name': 'gemini-2.0-flash', 'safety_ratings': []}, id='run--dfb891a5-130a-4f0c-b011-4e993924f0cb-0', tool_calls=[{'name': 'stock_price_tool', 'args': {'symbol': 'AMZN'}, 'id': '0fbf3602-e6fc-4727-a1ca-3dd871abd02a', 'type': 'tool_call'}, {'name': 'stock_price_tool', 'args': {'symbol': 'MSFT'}, 'id': '86425947-5745-474b-9b93-6d0f7ac9af41', 'type': 'tool_call'}], usage_metadata={'input_tokens': 61, 'output_tokens': 16, 'total_tokens': 77, 'input_token_details': {'cache_read': 0}}), ToolMessage(content='39.9', name='stock_price_tool', id='f8c7fbbd-1aad-429c-bb58-dcd2ce5b84a4', tool_call_id='0fbf3602-e6fc-4727-a1ca-3dd871abd02a'), ToolMessage(content='44.0', name='stock_price_tool', id='e6408bee-5f1d-4739-bd53-62983c2376a0', tool_call_id='86425947-5745-474b-9b93-6d0f7ac9af41'), AIMessage(content='OK. The current price of AMZN is $39.9 and MSFT is $44.\\nThe total cost will be 20 * 39.9 + 15 * 44 = $1458', additional_kwargs={}, response_metadata={'prompt_feedback': {'block_reason': 0, 'safety_ratings': []}, 'finish_reason': 'STOP', 'model_name': 'gemini-2.0-flash', 'safety_ratings': []}, id='run--450f17be-87c2-4a4f-91e3-33390616d347-0', usage_metadata={'input_tokens': 91, 'output_tokens': 52, 'total_tokens': 143, 'input_token_details': {'cache_read': 0}}), HumanMessage(content='Using the current price tell me the total price of 10 RIL stocks and add it to previous total cost', additional_kwargs={}, response_metadata={}, id='734fbdf1-ab26-495b-9bbe-e017fb0161e8'), AIMessage(content='', additional_kwargs={'function_call': {'name': 'stock_price_tool', 'arguments': '{\"symbol\": \"RIL\"}'}}, response_metadata={'prompt_feedback': {'block_reason': 0, 'safety_ratings': []}, 'finish_reason': 'STOP', 'model_name': 'gemini-2.0-flash', 'safety_ratings': []}, id='run--74b29bc8-fa93-47e8-b025-644b8ab4f8a2-0', tool_calls=[{'name': 'stock_price_tool', 'args': {'symbol': 'RIL'}, 'id': '5fcba43c-ed25-4f14-b121-cd28bb5ad156', 'type': 'tool_call'}], usage_metadata={'input_tokens': 165, 'output_tokens': 7, 'total_tokens': 172, 'input_token_details': {'cache_read': 0}}), ToolMessage(content='0', name='stock_price_tool', id='63c7ba61-9a0e-40e4-ae05-482ba313ad1a', tool_call_id='5fcba43c-ed25-4f14-b121-cd28bb5ad156'), AIMessage(content='The current price of RIL is $0.\\nThe total cost of 10 RIL stocks is 10 * 0 = $0.\\nAdding it to the previous total cost, the new total cost is $1458 + $0 = $1458.', additional_kwargs={}, response_metadata={'prompt_feedback': {'block_reason': 0, 'safety_ratings': []}, 'finish_reason': 'STOP', 'model_name': 'gemini-2.0-flash', 'safety_ratings': []}, id='run--c0d7cd64-6b5c-4ce4-9540-fbbfe3fb6ae4-0', usage_metadata={'input_tokens': 179, 'output_tokens': 62, 'total_tokens': 241, 'input_token_details': {'cache_read': 0}}), HumanMessage(content='I want to buy 20 AMZN stocks using current price. Then 15 MSFT. What will be the total cost?', additional_kwargs={}, response_metadata={}, id='b9683fc5-032f-443e-a29c-74b32cb92836'), AIMessage(content='', additional_kwargs={'function_call': {'name': 'stock_price_tool', 'arguments': '{\"symbol\": \"MSFT\"}'}}, response_metadata={'prompt_feedback': {'block_reason': 0, 'safety_ratings': []}, 'finish_reason': 'STOP', 'model_name': 'gemini-2.0-flash', 'safety_ratings': []}, id='run--cc8cfb94-1aa7-42b8-964d-7dd28cfed24c-0', tool_calls=[{'name': 'stock_price_tool', 'args': {'symbol': 'AMZN'}, 'id': '46af5057-9ebb-4bff-8d0a-0e3beb67e6a5', 'type': 'tool_call'}, {'name': 'stock_price_tool', 'args': {'symbol': 'MSFT'}, 'id': '0e56f2ec-cef5-4b97-8948-624caa85456d', 'type': 'tool_call'}], usage_metadata={'input_tokens': 268, 'output_tokens': 16, 'total_tokens': 284, 'input_token_details': {'cache_read': 0}}), ToolMessage(content='39.9', name='stock_price_tool', id='33f0c3f2-b460-4e80-aec5-b9ad18b4646d', tool_call_id='46af5057-9ebb-4bff-8d0a-0e3beb67e6a5'), ToolMessage(content='44.0', name='stock_price_tool', id='bd7d683d-ddc3-402f-9be2-facbcfe9ae26', tool_call_id='0e56f2ec-cef5-4b97-8948-624caa85456d'), AIMessage(content='OK. The current price of AMZN is $39.9 and MSFT is $44.\\nThe total cost will be 20 * 39.9 + 15 * 44 = $1458', additional_kwargs={}, response_metadata={'prompt_feedback': {'block_reason': 0, 'safety_ratings': []}, 'finish_reason': 'STOP', 'model_name': 'gemini-2.0-flash', 'safety_ratings': []}, id='run--1b045eb4-61c0-4725-86cc-a364a2d61418-0', usage_metadata={'input_tokens': 298, 'output_tokens': 52, 'total_tokens': 350, 'input_token_details': {'cache_read': 0}}), HumanMessage(content='Using the current price tell me the total price of 10 RIL stocks and add it to previous total cost', additional_kwargs={}, response_metadata={}, id='df1a1a45-616a-4d7a-808e-289819ebb342'), AIMessage(content='', additional_kwargs={'function_call': {'name': 'stock_price_tool', 'arguments': '{\"symbol\": \"RIL\"}'}}, response_metadata={'prompt_feedback': {'block_reason': 0, 'safety_ratings': []}, 'finish_reason': 'STOP', 'model_name': 'gemini-2.0-flash', 'safety_ratings': []}, id='run--9c6e7061-4b01-44f4-94d7-8f38f5dfc884-0', tool_calls=[{'name': 'stock_price_tool', 'args': {'symbol': 'RIL'}, 'id': 'abd1661d-bd8e-42d8-83d8-83a898ab306e', 'type': 'tool_call'}], usage_metadata={'input_tokens': 372, 'output_tokens': 7, 'total_tokens': 379, 'input_token_details': {'cache_read': 0}}), ToolMessage(content='0', name='stock_price_tool', id='73e0e5bb-18b5-46ad-bd9a-40a9b8e705a8', tool_call_id='abd1661d-bd8e-42d8-83d8-83a898ab306e'), AIMessage(content='The current price of RIL is $0.\\nThe total cost of 10 RIL stocks is 10 * 0 = $0.\\nAdding it to the previous total cost, the new total cost is $1458 + $0 = $1458.', additional_kwargs={}, response_metadata={'prompt_feedback': {'block_reason': 0, 'safety_ratings': []}, 'finish_reason': 'STOP', 'model_name': 'gemini-2.0-flash', 'safety_ratings': []}, id='run--a4e9bd45-8618-42b3-bfe5-e2ec8f641c27-0', usage_metadata={'input_tokens': 386, 'output_tokens': 61, 'total_tokens': 447, 'input_token_details': {'cache_read': 0}}), HumanMessage(content='I want to buy 20 AMZN stocks using current price. Then 15 MSFT. What will be the total cost?', additional_kwargs={}, response_metadata={}, id='11e40c9e-9a33-4e7f-ba47-ebfd332b658f'), AIMessage(content='', additional_kwargs={'function_call': {'name': 'stock_price_tool', 'arguments': '{\"symbol\": \"MSFT\"}'}}, response_metadata={'prompt_feedback': {'block_reason': 0, 'safety_ratings': []}, 'finish_reason': 'STOP', 'model_name': 'gemini-2.0-flash', 'safety_ratings': []}, id='run--255f4217-0c63-412a-8003-99df11734e2c-0', tool_calls=[{'name': 'stock_price_tool', 'args': {'symbol': 'AMZN'}, 'id': '498bb28d-e2ba-4967-9597-d1a90066b9b9', 'type': 'tool_call'}, {'name': 'stock_price_tool', 'args': {'symbol': 'MSFT'}, 'id': '4b825deb-1110-417d-b6ff-40e1d1b5dac3', 'type': 'tool_call'}], usage_metadata={'input_tokens': 475, 'output_tokens': 16, 'total_tokens': 491, 'input_token_details': {'cache_read': 0}}), ToolMessage(content='39.9', name='stock_price_tool', id='429f850d-4bcf-44b2-8101-de74ca538c2e', tool_call_id='498bb28d-e2ba-4967-9597-d1a90066b9b9'), ToolMessage(content='44.0', name='stock_price_tool', id='71e95b51-3230-4adb-92dc-385fae48c51c', tool_call_id='4b825deb-1110-417d-b6ff-40e1d1b5dac3'), AIMessage(content='OK. The current price of AMZN is $39.9 and MSFT is $44.\\nThe total cost will be 20 * 39.9 + 15 * 44 = $1458', additional_kwargs={}, response_metadata={'prompt_feedback': {'block_reason': 0, 'safety_ratings': []}, 'finish_reason': 'STOP', 'model_name': 'gemini-2.0-flash', 'safety_ratings': []}, id='run--fb43e620-9d8f-4799-9690-488a283e2962-0', usage_metadata={'input_tokens': 505, 'output_tokens': 52, 'total_tokens': 557, 'input_token_details': {'cache_read': 0}}), HumanMessage(content='Using the current price tell me the total price of 10 RIL stocks and add it to previous total cost', additional_kwargs={}, response_metadata={}, id='b2bb5bed-5929-41e8-978b-0d9a63e2bc6c'), AIMessage(content='', additional_kwargs={'function_call': {'name': 'stock_price_tool', 'arguments': '{\"symbol\": \"RIL\"}'}}, response_metadata={'prompt_feedback': {'block_reason': 0, 'safety_ratings': []}, 'finish_reason': 'STOP', 'model_name': 'gemini-2.0-flash', 'safety_ratings': []}, id='run--5f458976-10d1-404d-bee7-29169bdce9ad-0', tool_calls=[{'name': 'stock_price_tool', 'args': {'symbol': 'RIL'}, 'id': 'eb07ff29-9263-46d3-97c6-fa21cbee7ce3', 'type': 'tool_call'}], usage_metadata={'input_tokens': 579, 'output_tokens': 7, 'total_tokens': 586, 'input_token_details': {'cache_read': 0}}), ToolMessage(content='39.9', name='stock_price_tool', id='40f497eb-1227-4c43-b303-2d864769555c', tool_call_id='eb07ff29-9263-46d3-97c6-fa21cbee7ce3'), AIMessage(content='The current price of RIL is $39.9.\\nThe total cost of 10 RIL stocks is 10 * 39.9 = $399.\\nAdding it to the previous total cost, the new total cost is $1458 + $399 = $1857.', additional_kwargs={}, response_metadata={'prompt_feedback': {'block_reason': 0, 'safety_ratings': []}, 'finish_reason': 'STOP', 'model_name': 'gemini-2.0-flash', 'safety_ratings': []}, id='run--c2cc5872-49fc-403f-9985-9d8418d3dea0-0', usage_metadata={'input_tokens': 593, 'output_tokens': 72, 'total_tokens': 665, 'input_token_details': {'cache_read': 0}})]\n"
     ]
    }
   ],
   "execution_count": 64
  },
  {
   "metadata": {
    "ExecuteTime": {
     "end_time": "2025-08-10T17:13:24.451322Z",
     "start_time": "2025-08-10T17:13:24.441331Z"
    }
   },
   "cell_type": "code",
   "source": "",
   "id": "9242fdf9d70d5121",
   "outputs": [],
   "execution_count": null
  },
  {
   "metadata": {
    "ExecuteTime": {
     "end_time": "2025-08-10T17:13:24.459860Z",
     "start_time": "2025-08-10T17:13:24.458101Z"
    }
   },
   "cell_type": "code",
   "source": "",
   "id": "8a3362d5ff3dbb9b",
   "outputs": [],
   "execution_count": null
  },
  {
   "metadata": {
    "ExecuteTime": {
     "end_time": "2025-08-10T17:13:24.486362Z",
     "start_time": "2025-08-10T17:13:24.483056Z"
    }
   },
   "cell_type": "code",
   "source": "",
   "id": "ffaa724cfe92cad4",
   "outputs": [],
   "execution_count": null
  },
  {
   "metadata": {},
   "cell_type": "code",
   "outputs": [],
   "execution_count": null,
   "source": "",
   "id": "8a1d2d5bfb2e56d8"
  }
 ],
 "metadata": {
  "kernelspec": {
   "display_name": "Python [conda env:base] *",
   "language": "python",
   "name": "conda-base-py"
  },
  "language_info": {
   "codemirror_mode": {
    "name": "ipython",
    "version": 2
   },
   "file_extension": ".py",
   "mimetype": "text/x-python",
   "name": "python",
   "nbconvert_exporter": "python",
   "pygments_lexer": "ipython2",
   "version": "2.7.6"
  }
 },
 "nbformat": 4,
 "nbformat_minor": 5
}
