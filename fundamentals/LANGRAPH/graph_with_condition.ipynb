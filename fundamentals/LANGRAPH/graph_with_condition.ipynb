{
 "cells": [
  {
   "cell_type": "code",
   "id": "initial_id",
   "metadata": {
    "collapsed": true,
    "ExecuteTime": {
     "end_time": "2025-08-09T03:58:35.113965Z",
     "start_time": "2025-08-09T03:58:35.109142Z"
    }
   },
   "source": [
    "from typing import Literal\n",
    "from pydantic import BaseModel\n",
    "from sphinx.util.docutils import CustomReSTDispatcher"
   ],
   "outputs": [],
   "execution_count": 27
  },
  {
   "metadata": {
    "ExecuteTime": {
     "end_time": "2025-08-09T03:58:35.500485Z",
     "start_time": "2025-08-09T03:58:35.492675Z"
    }
   },
   "cell_type": "code",
   "source": [
    "class PortfolioState(BaseModel):\n",
    "    amt_usd: float\n",
    "    total_usd : float=0\n",
    "    target_currency : Literal[\"INR\",\"EUR\"]\n",
    "    total : float=0\n"
   ],
   "id": "f2a60b061c7910ea",
   "outputs": [],
   "execution_count": 28
  },
  {
   "metadata": {
    "ExecuteTime": {
     "end_time": "2025-08-09T03:58:35.698105Z",
     "start_time": "2025-08-09T03:58:35.691754Z"
    }
   },
   "cell_type": "code",
   "source": [
    "def calc_total_usd(state:PortfolioState)->PortfolioState:\n",
    "    state.total_usd = state.amt_usd*1.08\n",
    "    return state\n",
    "def calc_inr(state:PortfolioState)->PortfolioState:\n",
    "    state.total = state.amt_usd*85\n",
    "    return state\n",
    "def calc_eur(state:PortfolioState)->PortfolioState:\n",
    "    state.total = state.amt_usd*0.98\n",
    "    return state\n",
    "def choose_conversion(state:PortfolioState)-> str:\n",
    "    return state.target_currency\n"
   ],
   "id": "b80e927b33e4d539",
   "outputs": [],
   "execution_count": 29
  },
  {
   "metadata": {
    "ExecuteTime": {
     "end_time": "2025-08-09T03:58:35.857628Z",
     "start_time": "2025-08-09T03:58:35.850882Z"
    }
   },
   "cell_type": "code",
   "source": [
    "from langgraph.graph import StateGraph,START,END\n",
    "builder = StateGraph(PortfolioState)\n",
    "builder.add_node(\"calc_total_usd\",calc_total_usd)\n",
    "builder.add_node(\"calc_inr\",calc_inr)\n",
    "builder.add_node(\"calc_eur\",calc_eur)\n",
    "builder.add_edge(START,'calc_total_usd')\n",
    "builder.add_conditional_edges('calc_total_usd',\n",
    "        choose_conversion,{\n",
    "            \"INR\": \"calc_inr\",\n",
    "            \"EUR\": \"calc_eur\",\n",
    "\n",
    "                          }\n",
    "                              )\n",
    "builder.add_edge([\"calc_inr\",\"calc_eur\"],END)\n",
    "graph = builder.compile()"
   ],
   "id": "14eefcdaea342f02",
   "outputs": [],
   "execution_count": 30
  },
  {
   "metadata": {
    "ExecuteTime": {
     "end_time": "2025-08-09T03:58:36.943669Z",
     "start_time": "2025-08-09T03:58:36.038506Z"
    }
   },
   "cell_type": "code",
   "source": [
    "from IPython.display import Image,display\n",
    "display(Image(graph.get_graph().draw_mermaid_png()))"
   ],
   "id": "15026ab80d6396aa",
   "outputs": [
    {
     "data": {
      "image/png": "[encoded data removed]",
      "text/plain": [
       "<IPython.core.display.Image object>"
      ]
     },
     "metadata": {},
     "output_type": "display_data"
    }
   ],
   "execution_count": 31
  },
  {
   "metadata": {
    "ExecuteTime": {
     "end_time": "2025-08-09T03:58:37.015085Z",
     "start_time": "2025-08-09T03:58:36.986430Z"
    }
   },
   "cell_type": "code",
   "source": "graph.invoke({\"amt_usd\":1000,\"target_currency\":\"EUR\"})",
   "id": "fe882829087a32c6",
   "outputs": [
    {
     "data": {
      "text/plain": [
       "{'amt_usd': 1000.0,\n",
       " 'total_usd': 1080.0,\n",
       " 'target_currency': 'EUR',\n",
       " 'total': 980.0}"
      ]
     },
     "execution_count": 32,
     "metadata": {},
     "output_type": "execute_result"
    }
   ],
   "execution_count": 32
  },
  {
   "metadata": {
    "ExecuteTime": {
     "end_time": "2025-08-09T03:58:37.108684Z",
     "start_time": "2025-08-09T03:58:37.102998Z"
    }
   },
   "cell_type": "code",
   "source": "",
   "id": "6bb7d176e9e541a9",
   "outputs": [],
   "execution_count": null
  },
  {
   "metadata": {},
   "cell_type": "code",
   "outputs": [],
   "execution_count": null,
   "source": "",
   "id": "ad384f62ee3bbc71"
  },
  {
   "metadata": {},
   "cell_type": "code",
   "outputs": [],
   "execution_count": null,
   "source": "",
   "id": "e138253d905f3ebf"
  },
  {
   "metadata": {},
   "cell_type": "code",
   "outputs": [],
   "execution_count": null,
   "source": "",
   "id": "765d3cd10c709929"
  }
 ],
 "metadata": {
  "kernelspec": {
   "display_name": "Python [conda env:base] *",
   "language": "python",
   "name": "conda-base-py"
  },
  "language_info": {
   "codemirror_mode": {
    "name": "ipython",
    "version": 2
   },
   "file_extension": ".py",
   "mimetype": "text/x-python",
   "name": "python",
   "nbconvert_exporter": "python",
   "pygments_lexer": "ipython2",
   "version": "2.7.6"
  }
 },
 "nbformat": 4,
 "nbformat_minor": 5
}
