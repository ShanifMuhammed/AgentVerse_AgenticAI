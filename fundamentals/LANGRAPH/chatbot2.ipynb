{
 "cells": [
  {
   "cell_type": "code",
   "id": "initial_id",
   "metadata": {
    "collapsed": true,
    "ExecuteTime": {
     "end_time": "2025-08-09T13:27:29.371635Z",
     "start_time": "2025-08-09T13:27:29.366237Z"
    }
   },
   "source": [
    "from typing_extensions import TypedDict\n",
    "from typing import Annotated\n",
    "from langchain.chat_models import init_chat_model\n",
    "from langgraph.graph.message import add_messages\n",
    "from langgraph.graph import StateGraph,START,END\n"
   ],
   "outputs": [],
   "execution_count": 53
  },
  {
   "metadata": {
    "ExecuteTime": {
     "end_time": "2025-08-09T13:27:29.624088Z",
     "start_time": "2025-08-09T13:27:29.615792Z"
    }
   },
   "cell_type": "code",
   "source": "",
   "id": "9ff1b74a7e8e57de",
   "outputs": [],
   "execution_count": null
  },
  {
   "metadata": {
    "ExecuteTime": {
     "end_time": "2025-08-09T13:27:29.787928Z",
     "start_time": "2025-08-09T13:27:29.775200Z"
    }
   },
   "cell_type": "code",
   "source": [
    "llm = init_chat_model(\"google_genai:gemini-2.0-flash\")\n",
    "\n",
    "\n",
    "\n"
   ],
   "id": "fd8093ebc0badb47",
   "outputs": [],
   "execution_count": 54
  },
  {
   "metadata": {
    "ExecuteTime": {
     "end_time": "2025-08-09T13:27:31.810014Z",
     "start_time": "2025-08-09T13:27:29.921568Z"
    }
   },
   "cell_type": "code",
   "source": [
    "llm.invoke(\"Hello, world!\")\n",
    "\n"
   ],
   "id": "f478aaa2449db92",
   "outputs": [
    {
     "data": {
      "text/plain": [
       "AIMessage(content='Hello there! How can I help you today?', additional_kwargs={}, response_metadata={'prompt_feedback': {'block_reason': 0, 'safety_ratings': []}, 'finish_reason': 'STOP', 'model_name': 'gemini-2.0-flash', 'safety_ratings': []}, id='run--9112e4b6-bfd2-4ad1-9e99-be062945c18c-0', usage_metadata={'input_tokens': 4, 'output_tokens': 11, 'total_tokens': 15, 'input_token_details': {'cache_read': 0}})"
      ]
     },
     "execution_count": 55,
     "metadata": {},
     "output_type": "execute_result"
    }
   ],
   "execution_count": 55
  },
  {
   "metadata": {
    "ExecuteTime": {
     "end_time": "2025-08-09T13:27:31.842772Z",
     "start_time": "2025-08-09T13:27:31.834853Z"
    }
   },
   "cell_type": "code",
   "source": [
    "class State(TypedDict):\n",
    "    messages:Annotated[list,add_messages]\n"
   ],
   "id": "de1e17c985f1cf96",
   "outputs": [],
   "execution_count": 56
  },
  {
   "metadata": {},
   "cell_type": "code",
   "outputs": [],
   "execution_count": null,
   "source": "",
   "id": "8c104d3d9b9a88c2"
  },
  {
   "metadata": {
    "ExecuteTime": {
     "end_time": "2025-08-09T13:27:31.908773Z",
     "start_time": "2025-08-09T13:27:31.861339Z"
    }
   },
   "cell_type": "code",
   "source": [
    "def chatbot(state:State)->State:\n",
    "    return {\"messages\":[llm.invoke(state[\"messages\"])]}"
   ],
   "id": "cb1e72bddc15a868",
   "outputs": [],
   "execution_count": 57
  },
  {
   "metadata": {
    "ExecuteTime": {
     "end_time": "2025-08-09T13:27:31.930847Z",
     "start_time": "2025-08-09T13:27:31.923999Z"
    }
   },
   "cell_type": "code",
   "source": "builder = StateGraph(State)\n",
   "id": "cd324dcf5a611e1f",
   "outputs": [],
   "execution_count": 58
  },
  {
   "metadata": {
    "ExecuteTime": {
     "end_time": "2025-08-09T13:27:31.966151Z",
     "start_time": "2025-08-09T13:27:31.945925Z"
    }
   },
   "cell_type": "code",
   "source": [
    "builder.add_node(\"chatbot\",chatbot)\n",
    "builder.add_edge(START,\"chatbot\")\n",
    "builder.add_edge(\"chatbot\",END)\n",
    "graph = builder.compile()"
   ],
   "id": "9045def869cb55ef",
   "outputs": [],
   "execution_count": 59
  },
  {
   "metadata": {
    "ExecuteTime": {
     "end_time": "2025-08-09T13:28:23.821496Z",
     "start_time": "2025-08-09T13:28:16.484005Z"
    }
   },
   "cell_type": "code",
   "source": [
    "state = None\n",
    "while True:\n",
    "    in_massage = input(\"you:\")\n",
    "    if in_massage.lower() == \"end\":\n",
    "        break\n",
    "    if state is None:\n",
    "        state:State = {\n",
    "            \"messages\":[{\n",
    "                \"role\":\"user\",\"content\":in_massage\n",
    "            }]\n",
    "        }\n",
    "    else :\n",
    "        state[\"messages\"].append({\"role\":\"user\",\"content\":in_massage})\n",
    "    state = graph.invoke(state)\n",
    "    print(\"me:\",state[\"messages\"][-2].content)\n",
    "    print(\"bot:\",state[\"messages\"][-1].content)"
   ],
   "id": "ee2627568cc56344",
   "outputs": [
    {
     "name": "stdout",
     "output_type": "stream",
     "text": [
      "me: hi\n",
      "bot: Hi there! How can I help you today?\n"
     ]
    },
    {
     "ename": "KeyboardInterrupt",
     "evalue": "Interrupted by user",
     "output_type": "error",
     "traceback": [
      "\u001B[1;31m---------------------------------------------------------------------------\u001B[0m",
      "\u001B[1;31mKeyboardInterrupt\u001B[0m                         Traceback (most recent call last)",
      "Cell \u001B[1;32mIn[62], line 3\u001B[0m\n\u001B[0;32m      1\u001B[0m state \u001B[38;5;241m=\u001B[39m \u001B[38;5;28;01mNone\u001B[39;00m\n\u001B[0;32m      2\u001B[0m \u001B[38;5;28;01mwhile\u001B[39;00m \u001B[38;5;28;01mTrue\u001B[39;00m:\n\u001B[1;32m----> 3\u001B[0m     in_massage \u001B[38;5;241m=\u001B[39m \u001B[38;5;28minput\u001B[39m(\u001B[38;5;124m\"\u001B[39m\u001B[38;5;124myou:\u001B[39m\u001B[38;5;124m\"\u001B[39m)\n\u001B[0;32m      4\u001B[0m     \u001B[38;5;28;01mif\u001B[39;00m in_massage\u001B[38;5;241m.\u001B[39mlower() \u001B[38;5;241m==\u001B[39m \u001B[38;5;124m\"\u001B[39m\u001B[38;5;124mend\u001B[39m\u001B[38;5;124m\"\u001B[39m:\n\u001B[0;32m      5\u001B[0m         \u001B[38;5;28;01mbreak\u001B[39;00m\n",
      "File \u001B[1;32m~\\anaconda3\\Lib\\site-packages\\ipykernel\\kernelbase.py:1282\u001B[0m, in \u001B[0;36mKernel.raw_input\u001B[1;34m(self, prompt)\u001B[0m\n\u001B[0;32m   1280\u001B[0m     msg \u001B[38;5;241m=\u001B[39m \u001B[38;5;124m\"\u001B[39m\u001B[38;5;124mraw_input was called, but this frontend does not support input requests.\u001B[39m\u001B[38;5;124m\"\u001B[39m\n\u001B[0;32m   1281\u001B[0m     \u001B[38;5;28;01mraise\u001B[39;00m StdinNotImplementedError(msg)\n\u001B[1;32m-> 1282\u001B[0m \u001B[38;5;28;01mreturn\u001B[39;00m \u001B[38;5;28mself\u001B[39m\u001B[38;5;241m.\u001B[39m_input_request(\n\u001B[0;32m   1283\u001B[0m     \u001B[38;5;28mstr\u001B[39m(prompt),\n\u001B[0;32m   1284\u001B[0m     \u001B[38;5;28mself\u001B[39m\u001B[38;5;241m.\u001B[39m_parent_ident[\u001B[38;5;124m\"\u001B[39m\u001B[38;5;124mshell\u001B[39m\u001B[38;5;124m\"\u001B[39m],\n\u001B[0;32m   1285\u001B[0m     \u001B[38;5;28mself\u001B[39m\u001B[38;5;241m.\u001B[39mget_parent(\u001B[38;5;124m\"\u001B[39m\u001B[38;5;124mshell\u001B[39m\u001B[38;5;124m\"\u001B[39m),\n\u001B[0;32m   1286\u001B[0m     password\u001B[38;5;241m=\u001B[39m\u001B[38;5;28;01mFalse\u001B[39;00m,\n\u001B[0;32m   1287\u001B[0m )\n",
      "File \u001B[1;32m~\\anaconda3\\Lib\\site-packages\\ipykernel\\kernelbase.py:1325\u001B[0m, in \u001B[0;36mKernel._input_request\u001B[1;34m(self, prompt, ident, parent, password)\u001B[0m\n\u001B[0;32m   1322\u001B[0m \u001B[38;5;28;01mexcept\u001B[39;00m \u001B[38;5;167;01mKeyboardInterrupt\u001B[39;00m:\n\u001B[0;32m   1323\u001B[0m     \u001B[38;5;66;03m# re-raise KeyboardInterrupt, to truncate traceback\u001B[39;00m\n\u001B[0;32m   1324\u001B[0m     msg \u001B[38;5;241m=\u001B[39m \u001B[38;5;124m\"\u001B[39m\u001B[38;5;124mInterrupted by user\u001B[39m\u001B[38;5;124m\"\u001B[39m\n\u001B[1;32m-> 1325\u001B[0m     \u001B[38;5;28;01mraise\u001B[39;00m \u001B[38;5;167;01mKeyboardInterrupt\u001B[39;00m(msg) \u001B[38;5;28;01mfrom\u001B[39;00m\u001B[38;5;250m \u001B[39m\u001B[38;5;28;01mNone\u001B[39;00m\n\u001B[0;32m   1326\u001B[0m \u001B[38;5;28;01mexcept\u001B[39;00m \u001B[38;5;167;01mException\u001B[39;00m:\n\u001B[0;32m   1327\u001B[0m     \u001B[38;5;28mself\u001B[39m\u001B[38;5;241m.\u001B[39mlog\u001B[38;5;241m.\u001B[39mwarning(\u001B[38;5;124m\"\u001B[39m\u001B[38;5;124mInvalid Message:\u001B[39m\u001B[38;5;124m\"\u001B[39m, exc_info\u001B[38;5;241m=\u001B[39m\u001B[38;5;28;01mTrue\u001B[39;00m)\n",
      "\u001B[1;31mKeyboardInterrupt\u001B[0m: Interrupted by user"
     ]
    }
   ],
   "execution_count": 62
  },
  {
   "metadata": {},
   "cell_type": "code",
   "outputs": [],
   "execution_count": null,
   "source": "",
   "id": "5796b4d6cf76b8cc"
  },
  {
   "metadata": {},
   "cell_type": "code",
   "outputs": [],
   "execution_count": null,
   "source": "",
   "id": "3082ba57a0067341"
  },
  {
   "metadata": {},
   "cell_type": "code",
   "outputs": [],
   "execution_count": null,
   "source": "",
   "id": "35043ea0e5f40714"
  }
 ],
 "metadata": {
  "kernelspec": {
   "display_name": "Python [conda env:base] *",
   "language": "python",
   "name": "conda-base-py"
  },
  "language_info": {
   "codemirror_mode": {
    "name": "ipython",
    "version": 2
   },
   "file_extension": ".py",
   "mimetype": "text/x-python",
   "name": "python",
   "nbconvert_exporter": "python",
   "pygments_lexer": "ipython2",
   "version": "2.7.6"
  }
 },
 "nbformat": 4,
 "nbformat_minor": 5
}
